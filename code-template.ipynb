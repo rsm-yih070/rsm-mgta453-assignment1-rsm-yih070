{
 "cells": [
  {
   "cell_type": "code",
   "execution_count": 5,
   "metadata": {},
   "outputs": [],
   "source": [
    "import pandas as pd\n",
    "file_path = '/home/jovyan/git/rsm-mgta453-assignment1-rsm-yih070/data/prices.parquet'\n",
    "prices_data = pd.read_parquet(file_path)"
   ]
  },
  {
   "cell_type": "code",
   "execution_count": 7,
   "metadata": {},
   "outputs": [
    {
     "data": {
      "text/plain": [
       "(60, 32)"
      ]
     },
     "execution_count": 7,
     "metadata": {},
     "output_type": "execute_result"
    }
   ],
   "source": [
    "def optimize_prices(df):\n",
    "    price_summary = df.groupby('price').agg({\n",
    "        'mon_purchases': 'sum',\n",
    "        'tues_purchases': 'sum'\n",
    "    }).reset_index()\n",
    "    \n",
    "    price_summary['tues_revenue'] = price_summary['price'] * price_summary['tues_purchases']\n",
    "    \n",
    "    tues_opt_price = price_summary.loc[price_summary['tues_revenue'].idxmax(), 'price']\n",
    "    \n",
    "    def adjusted_monday_revenue(price, prices_data, optimal_price_tuesday):\n",
    "        monday_data = prices_data[prices_data['price'] == price]\n",
    "        \n",
    "        monday_purchases = monday_data['mon_purchases'].sum()\n",
    "        potential_tuesday_purchases = monday_data['mon_purchases'].count() - monday_purchases\n",
    "        \n",
    "        monday_revenue = price * monday_purchases\n",
    "        additional_tuesday_revenue = optimal_price_tuesday * potential_tuesday_purchases\n",
    "\n",
    "        return monday_revenue + additional_tuesday_revenue\n",
    "    \n",
    "    price_summary['adjusted_mon_revenue'] = price_summary['price'].apply(\n",
    "        lambda x: adjusted_monday_revenue(x, df, tues_opt_price)\n",
    "    )\n",
    "    \n",
    "    mon_opt_price = price_summary.loc[price_summary['adjusted_mon_revenue'].idxmax(), 'price']\n",
    "    \n",
    "    return mon_opt_price, tues_opt_price\n",
    "\n"
   ]
  }
 ],
 "metadata": {
  "kernelspec": {
   "display_name": "base",
   "language": "python",
   "name": "python3"
  },
  "language_info": {
   "codemirror_mode": {
    "name": "ipython",
    "version": 3
   },
   "file_extension": ".py",
   "mimetype": "text/x-python",
   "name": "python",
   "nbconvert_exporter": "python",
   "pygments_lexer": "ipython3",
   "version": "3.11.9"
  }
 },
 "nbformat": 4,
 "nbformat_minor": 4
}
